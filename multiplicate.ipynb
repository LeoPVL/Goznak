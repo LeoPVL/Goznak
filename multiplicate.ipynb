{
  "nbformat": 4,
  "nbformat_minor": 0,
  "metadata": {
    "colab": {
      "name": "multiplicate.ipynb",
      "provenance": [],
      "collapsed_sections": [],
      "authorship_tag": "ABX9TyNWtRtKysidLD9Ajtx9eMsY",
      "include_colab_link": true
    },
    "kernelspec": {
      "name": "python3",
      "display_name": "Python 3"
    }
  },
  "cells": [
    {
      "cell_type": "markdown",
      "metadata": {
        "id": "view-in-github",
        "colab_type": "text"
      },
      "source": [
        "<a href=\"https://colab.research.google.com/github/LeoPVL/Goznak/blob/main/multiplicate.ipynb\" target=\"_parent\"><img src=\"https://colab.research.google.com/assets/colab-badge.svg\" alt=\"Open In Colab\"/></a>"
      ]
    },
    {
      "cell_type": "code",
      "metadata": {
        "id": "oStLWFACnk0E",
        "colab": {
          "base_uri": "https://localhost:8080/"
        },
        "outputId": "14c9adbc-7595-4618-c471-fb28e81c902c"
      },
      "source": [
        "def multiplicate(A):\n",
        "  # prod = reduce(lambda x, y: x*y, A)\n",
        "  prod = 1\n",
        "  zeros = []\n",
        "  for i in range(len(A)):\n",
        "    if A[i]==0:\n",
        "      zeros+=[i]\n",
        "    else:\n",
        "      prod =A[i]*prod \n",
        "\n",
        "  if len(zeros)>1:\n",
        "    A = list(map(lambda x:0,A))\n",
        "  elif len(zeros)==1:\n",
        "    A = list(map(lambda x:0,A))\n",
        "    A[i] = prod\n",
        "  else:\n",
        "    A = list(map(lambda x:int(prod/x),A))\n",
        "\n",
        "  return A\n",
        "\n",
        "A = [1,2,3,4]\n",
        "multiplicate(A)"
      ],
      "execution_count": 15,
      "outputs": [
        {
          "output_type": "execute_result",
          "data": {
            "text/plain": [
              "[24, 12, 8, 6]"
            ]
          },
          "metadata": {
            "tags": []
          },
          "execution_count": 15
        }
      ]
    }
  ]
}